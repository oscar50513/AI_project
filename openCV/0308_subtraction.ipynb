{
 "cells": [
  {
   "cell_type": "markdown",
   "id": "f6f852f7",
   "metadata": {},
   "source": [
    "# Practice 0308 - Example\n",
    "\n",
    "\n",
    "## Practice\n",
    "1. Perform <b>Temporal Subtraction</b>. i.e., abs(I(t)-I(t-1)) where I(t) is the captured image at time instant t.\n",
    "2. Perform <b>Background Subtraction</b>. i.e., abs(I(t)-I(0)) where I(0) is the first captured image after your program starts the execution.\n",
    "3. Show the background image and both subtracted images.\n",
    "4. Compare the differences. What is the pros and cons of these two methods?\n",
    "5. Upload your Jupyter code file (*.ipynb)"
   ]
  },
  {
   "cell_type": "code",
   "execution_count": 9,
   "id": "0101957e",
   "metadata": {},
   "outputs": [],
   "source": [
    "import cv2\n",
    "\n",
    "\n",
    "# 確認鏡頭是否開啟\n",
    "# Check if the webcam is opened correctly\n",
    "# 抓取相機第0位, 若有外接鏡頭序號可更動\n",
    "# Capture the 0th digit of the camera, if there is an external lens, the serial number can be changed\n",
    "cap = cv2.VideoCapture(0)\n",
    "if not cap.isOpened():\n",
    "    raise IOError(\"Cannot open webcam\")\n",
    "\n",
    "    \n",
    "# frame_T0 ： Background frame 背景影格\n",
    "# frame_T_ere ： the frame before the curent frame 當前影格的前一個影格\n",
    "frame_T0 = None\n",
    "ret, frame = cap.read()\n",
    "\n",
    "# 圖片縮放 插值(INTER_AREA)可做更改\n",
    "# image zoom  Interpolation (INTER_AREA) can be changed\n",
    "# 用背景影格作為第一個前影格 \n",
    "# Make frame_T0 be the first preframe\n",
    "frame_T0 = cv2.resize(frame, None, fx=0.5, fy=0.5, interpolation=cv2.INTER_AREA)\n",
    "frame_T_pre = frame_T0 \n",
    "\n",
    "\n",
    "while True:\n",
    "    ret, frame = cap.read()\n",
    "    cur_frame = cv2.resize(frame, None, fx=0.5, fy=0.5, interpolation=cv2.INTER_AREA)\n",
    "    \n",
    "    if frame_T0 is not None:\n",
    "        \n",
    "        # 當前影格與背景影格相減\n",
    "        # background substract the current frame\n",
    "        Background_frame = cv2.absdiff(cur_frame , frame_T0)\n",
    "        cv2.imshow('Background Subtraction', Background_frame)\n",
    "        \n",
    "        # 當前影格與前一個影格相減 \n",
    "        # preframe substract the current frame\n",
    "        Temporal_frame = cv2.absdiff(cur_frame , frame_T_pre)\n",
    "        cv2.imshow('Temporal Subtraction', Temporal_frame)\n",
    "    \n",
    "    # 紀錄前一個影格\n",
    "    # record previous frame\n",
    "    frame_T_pre = cur_frame\n",
    "    \n",
    "    c = cv2.waitKey(1)\n",
    "    if c == 27:\n",
    "        break\n",
    "cap.release()\n",
    "cv2.destroyAllWindows()"
   ]
  }
 ],
 "metadata": {
  "kernelspec": {
   "display_name": "Python 3 (ipykernel)",
   "language": "python",
   "name": "python3"
  },
  "language_info": {
   "codemirror_mode": {
    "name": "ipython",
    "version": 3
   },
   "file_extension": ".py",
   "mimetype": "text/x-python",
   "name": "python",
   "nbconvert_exporter": "python",
   "pygments_lexer": "ipython3",
   "version": "3.9.16"
  },
  "vscode": {
   "interpreter": {
    "hash": "88279d2366fe020547cde40dd65aa0e3aa662a6ec1f3ca12d88834876c85e1a6"
   }
  }
 },
 "nbformat": 4,
 "nbformat_minor": 5
}
