{
 "cells": [
  {
   "cell_type": "code",
   "execution_count": null,
   "metadata": {},
   "outputs": [],
   "source": [
    " ['cv2.TM_CCOEFF', 'cv2.TM_CCOEFF_NORMED', 'cv2.TM_CCORR','cv2.TM_CCORR_NORMED', 'cv2.TM_SQDIFF', 'cv2.TM_SQDIFF_NORMED']"
   ]
  },
  {
   "cell_type": "markdown",
   "metadata": {},
   "source": [
    "1. CV_TM_CCOEFF\n",
    "    * 去掉直流成份的相關係數，越大越相似\n",
    "2. CV_TM_CCOEFF_NORMED\n",
    "    * 正規化 去掉直流成份的相關係數\n",
    "    * 保證當 pixel 亮度都乘上同一係數時，相似度不變\n",
    "    * 計算出的相關係數被限制在了 -1 到 1 之間\n",
    "3. CV_TM_CCORR\n",
    "    * 相關係數，越大越相似\n",
    "4. CV_TM_CCORR_NORMED\n",
    "    * 正規化相關係數，越大越相似\n",
    "    * 保證當 pixel 亮度都乘上同一係數時，相似度不變\n",
    "5. CV_TM_SQDIFF\n",
    "    * 平方差，越小越相似\n",
    "6. CV_TM_SQDIFF_NORMED\n",
    "    * 正規化平方差，越小越相似\n",
    "    * 保證當 pixel 亮度都乘上同一係數時，相似度不變"
   ]
  },
  {
   "cell_type": "markdown",
   "metadata": {},
   "source": [
    "CV_TM_CCOEFF,CV_TM_CCOEFF_NORMED,CV_TM_SQDIFF三種方式都可以找到正確的人頭!"
   ]
  },
  {
   "cell_type": "markdown",
   "metadata": {},
   "source": [
    "###### %%writefile test\n",
    "## Practice\n",
    "1. Input images from video file WiiPlay.mp4 with frame number between 4820 and 5000 (i.e., level 15).\n",
    "2. Acquire a face template from the first frame (frame number = 4820).\n",
    "3. Use <i>cv2.matchTemplate()</i> to perform template matching on subsequent frames.\n",
    "4. Draw a blue rectangle around each good match and show the output images.\n",
    "5. (Optional) Use <i>cv2.minMaxLoc()</i> to find the best match and draw a red rectangle around the best match.\n",
    "6. Observe which method is better ('cv2.TM_CCOEFF', 'cv2.TM_CCOEFF_NORMED', 'cv2.TM_CCORR','cv2.TM_CCORR_NORMED', 'cv2.TM_SQDIFF', 'cv2.TM_SQDIFF_NORMED') \n",
    "7. Upload your Jupyter code file (*.ipynb)"
   ]
  },
  {
   "cell_type": "code",
   "execution_count": 218,
   "metadata": {},
   "outputs": [
    {
     "name": "stdout",
     "output_type": "stream",
     "text": [
      "(47, 38, 3)\n",
      "38 47\n"
     ]
    }
   ],
   "source": [
    "import cv2\n",
    "import numpy as np\n",
    "\n",
    "cap = cv2.VideoCapture('WiiPlay.mp4')\n",
    "\n",
    "# 檢查影片檔案是否正確打開\n",
    "if not cap.isOpened():\n",
    "    raise IOError(\"Cannot open the video file\")\n",
    "\n",
    "# 設置開始、結束時間\n",
    "# Set start and end time\n",
    "start_time = 4821\n",
    "end_time = 5000\n",
    "frame_seq = 4820 # 計算開始的影格 # Calculate the starting frame\n",
    "out_size = (640, 360)\n",
    "\n",
    "# 使用 X264 編碼\n",
    "# Use X264 encoding\n",
    "\n",
    "#fourcc = cv2.VideoWriter_fourcc('m','p','4','v')\n",
    "fourcc = cv2.VideoWriter_fourcc(*'mp4v')\n",
    "# 建立 VideoWriter 物件，輸出影片至 output.mp4\n",
    "out = cv2.VideoWriter('output.mp4', fourcc, 30.0, out_size)\n",
    "\n",
    "# 第一個參數標誌 CAP_PROP_POS_FRAMES 是下一個要解碼/捕獲的幀的從 0 開始的索引。\n",
    "# 第二個參數定義幀數，範圍從 0 到 (time_length*fps - 1)。\n",
    "cap.set(cv2.CAP_PROP_POS_FRAMES , frame_seq);\n",
    "# 建立計算影格的計數器\n",
    "counter = start_time \n",
    "\n",
    "select = False\n",
    "mouse_pressed = False  # 設定flag: 有沒有按下滑鼠\n",
    "y0 = x0 = w = h = 0 #168 232 292 350\n",
    "\n",
    "ret, frame = cap.read()\n",
    "cur_frame = cv2.resize(frame, out_size, 0, 0, interpolation=cv2.INTER_AREA)\n",
    "show_img = np.copy(cur_frame)\n",
    "\n",
    "\n",
    "template = np.copy(show_img[175:222, 301:339])\n",
    "#template = np.copy(show_img[y0:y0+h, x0:x0+w]) # 新的影像\n",
    "\n",
    "cv2.imshow('template',template)\n",
    "# cv2.waitKey()\n",
    "# cv2.destroyAllWindows()\n",
    "#template = cv2.resize(template, (55,60), 0, 0, interpolation=cv2.INTER_AREA)\n",
    "h,w = template.shape[:2]\n",
    "print(template.shape)\n",
    "print(w,h)\n",
    "methods = ['cv2.TM_CCOEFF', 'cv2.TM_CCOEFF_NORMED', 'cv2.TM_CCORR','cv2.TM_CCORR_NORMED', 'cv2.TM_SQDIFF', 'cv2.TM_SQDIFF_NORMED']\n",
    "show_img = np.copy(cur_frame)\n",
    "\n",
    "# 選擇使用的 methods\n",
    "select = 0\n",
    "\n",
    "\n",
    "flage = 0\n",
    "while True:\n",
    "    ret, img = cap.read()\n",
    "    img = cv2.resize(img, out_size, 0, 0, interpolation=cv2.INTER_AREA)\n",
    "    cv2.imshow('tm', show_img)\n",
    "    # 判斷結束時間\n",
    "    if ret == False  or counter >= end_time:\n",
    "        break\n",
    "    else:\n",
    "        counter += 1\n",
    "    k = cv2.waitKey(1)\n",
    "    if k == -1:\n",
    "        k = select\n",
    "    else:\n",
    "        if k == 27:  #ESC鍵\n",
    "            break\n",
    "        k = int(chr(k))\n",
    "        select = k\n",
    "    if k == 27:  #ESC鍵\n",
    "        break\n",
    "    elif k >= 0:\n",
    "        index = k\n",
    "        if 0 <= index < len(methods):\n",
    "            method = methods[index]\n",
    "            res = cv2.matchTemplate(img, template, eval(method))\n",
    "            \n",
    "            min_val, max_val, min_loc, max_loc = cv2.minMaxLoc(res)\n",
    "            if eval(method) in [cv2.TM_SQDIFF, cv2.TM_SQDIFF_NORMED]:\n",
    "                top_left = (min_loc[0], min_loc[1])\n",
    "            else:\n",
    "                top_left = (max_loc[0], max_loc[1])\n",
    "            bottom_right = (top_left[0] + w, top_left[1] + h)\n",
    "            \n",
    "            res = cv2.normalize(res, None, 0, 1, cv2.NORM_MINMAX)      #正規化到0~1區間 \n",
    "            res_img = np.copy(res)\n",
    "            res_img = cv2.cvtColor(res_img, cv2.COLOR_GRAY2BGR).astype(np.uint8)\n",
    "            \n",
    "            if eval(method) in [cv2.TM_CCOEFF, cv2.TM_CCOEFF_NORMED]:\n",
    "                flage = 1\n",
    "                val,result = cv2.threshold(res,0.95,1.0,cv2.THRESH_BINARY)\n",
    "                cv2.imshow('result',result)\n",
    "                match_locs = cv2.findNonZero(result)\n",
    "            elif eval(method) in [cv2.TM_SQDIFF, cv2.TM_SQDIFF_NORMED]:\n",
    "                flage = 1\n",
    "                val,result = cv2.threshold(res,0.01,1.0,cv2.THRESH_BINARY_INV)\n",
    "                cv2.imshow('res',res)\n",
    "                cv2.imshow('result',result)\n",
    "                match_locs = cv2.findNonZero(result)\n",
    "            else:\n",
    "                cv2.imshow('res',res)\n",
    "                flage = 0\n",
    "                for y in range(0, res.shape[0]):\n",
    "                    for x in range(0, res.shape[1]):\n",
    "                        if (index >= methods.index('cv2.TM_SQDIFF')) and (res[y,x] < 0.1):            \n",
    "                            cv2.rectangle(res_img, (x - int(w/2), y - int(h/2)), (x + int(w/2), y + int(h/2)),(255, 0, 0), 3, 8, 0)\n",
    "                        elif (index < methods.index('cv2.TM_SQDIFF')) and (res[y,x] > 0.95):\n",
    "                            cv2.rectangle(res_img, (x - int(w/2), y - int(h/2)), (x + int(w/2), y + int(h/2)),(255, 0, 0), 3, 8, 0)\n",
    "                            #print((x - int(w/2), y - int(h/2)))\n",
    "                            #print('res[y,x]',res[y,x])\n",
    "            #print()\n",
    "            res_img = cv2.resize(res_img, out_size)*255\n",
    "            show_img = np.copy(img)\n",
    "            \n",
    "            if flage:\n",
    "                for match_loc_t in match_locs:\n",
    "                    match_loc = match_loc_t[0]\n",
    "                    right_bottom = (match_loc[0] + template.shape[1], match_loc[1] + template.shape[0])\n",
    "                    cv2.rectangle(show_img, match_loc, right_bottom, (255,50,0), 3, 6, 0 )\n",
    "                    cv2.rectangle(res_img, match_loc, right_bottom, (255,50,0), 3, 6, 0 )\n",
    "            \n",
    "            cv2.rectangle(res_img, top_left,  bottom_right, (0, 0, 255), 3, 8, 0)\n",
    "            cv2.putText(res_img, str(index) + method, (0, 30), cv2.FONT_HERSHEY_SIMPLEX, 1, (0, 0, 255), 3, 8, 0)\n",
    "            cv2.rectangle(show_img,top_left, bottom_right, (0, 0, 255), 2)\n",
    "            show_img = np.hstack((show_img, res_img)) # 在右邊水平並排顯示視窗\n",
    "                   \n",
    "cap.release()\n",
    "out.release()\n",
    "cv2.destroyAllWindows()"
   ]
  },
  {
   "cell_type": "code",
   "execution_count": 216,
   "metadata": {},
   "outputs": [
    {
     "data": {
      "text/plain": [
       "4"
      ]
     },
     "execution_count": 216,
     "metadata": {},
     "output_type": "execute_result"
    }
   ],
   "source": [
    "methods.index('cv2.TM_SQDIFF')"
   ]
  },
  {
   "cell_type": "code",
   "execution_count": null,
   "metadata": {},
   "outputs": [],
   "source": []
  }
 ],
 "metadata": {
  "kernelspec": {
   "display_name": "Python 3 (ipykernel)",
   "language": "python",
   "name": "python3"
  },
  "language_info": {
   "codemirror_mode": {
    "name": "ipython",
    "version": 3
   },
   "file_extension": ".py",
   "mimetype": "text/x-python",
   "name": "python",
   "nbconvert_exporter": "python",
   "pygments_lexer": "ipython3",
   "version": "3.9.16"
  }
 },
 "nbformat": 4,
 "nbformat_minor": 2
}
