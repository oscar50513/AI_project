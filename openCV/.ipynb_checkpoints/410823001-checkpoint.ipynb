{
 "cells": [
  {
   "cell_type": "code",
   "execution_count": 1,
   "metadata": {},
   "outputs": [],
   "source": [
    "#convolution : image smoothing (lowpass)\n",
    "\n",
    "import cv2\n",
    "import numpy as np\n",
    "img = cv2.imread('lena.png')\n",
    "rows, cols = img.shape[:2]\n",
    "kernel_identity = np.array([[0,0,0], [0,1,0], [0,0,0]])\n",
    "kernel_3x3 = np.ones((3,3), np.float32) / 9.0 # Divide by 9 to normalize the kernel\n",
    "kernel_5x5 = np.ones((5,5), np.float32) / 25.0 # Divide by 25 to normalize the kernel\n",
    "cv2.imshow('Original', img)\n",
    "# value -1 is to maintain source image depth\n",
    "output = cv2.filter2D(img, -1, kernel_identity)\n",
    "cv2.imshow('Identity filter', output)\n",
    "output = cv2.filter2D(img, -1, kernel_3x3)\n",
    "cv2.imshow('3x3 filter', output)\n",
    "output = cv2.filter2D(img, -1, kernel_5x5)\n",
    "cv2.imshow('5x5 filter', output)\n",
    "cv2.waitKey(0)\n",
    "cv2.destroyAllWindows()"
   ]
  },
  {
   "cell_type": "code",
   "execution_count": 8,
   "metadata": {},
   "outputs": [],
   "source": [
    "#convolution : image sharping\n",
    "\n",
    "import cv2\n",
    "import numpy as np\n",
    "img = cv2.imread('sakura.jpg')\n",
    "assert img is not None\n",
    "cv2.imshow('Original', img)\n",
    "# generating the kernels\n",
    "kernel_sharpen_1 = np.array([\n",
    "    [-1,-1,-1], \n",
    "    [-1, 9,-1], \n",
    "    [-1,-1,-1]])\n",
    "kernel_sharpen_2 = np.array([\n",
    "    [1, 1,1], \n",
    "    [1,-7,1], \n",
    "    [1, 1,1]])\n",
    "kernel_sharpen_3 = np.array([\n",
    "    [-1,-1,-1,-1,-1],\n",
    "    [-1, 2, 2, 2,-1],\n",
    "    [-1, 2, 8, 2,-1],\n",
    "    [-1, 2, 2, 2,-1],\n",
    "    [-1,-1,-1,-1,-1]]) / 8.0\n",
    "# applying different kernels to the input image\n",
    "output_1 = cv2.filter2D(img, -1, kernel_sharpen_1)\n",
    "output_2 = cv2.filter2D(img, -1, kernel_sharpen_2)\n",
    "output_3 = cv2.filter2D(img, -1, kernel_sharpen_3)\n",
    "cv2.imshow('Sharpening', output_1)\n",
    "cv2.imshow('Excessive Sharpening', output_2)\n",
    "cv2.imshow('Edge Enhancement', output_3)\n",
    "cv2.waitKey(0)\n",
    "cv2.destroyAllWindows()"
   ]
  },
  {
   "cell_type": "code",
   "execution_count": 10,
   "metadata": {},
   "outputs": [
    {
     "name": "stdout",
     "output_type": "stream",
     "text": [
      "[[0 0 0 0 0 0 0 1 0 0 0 0 0 0 0]\n",
      " [0 0 0 1 1 1 1 1 1 1 1 1 0 0 0]\n",
      " [0 0 1 1 1 1 1 1 1 1 1 1 1 0 0]\n",
      " [0 1 1 1 1 1 1 1 1 1 1 1 1 1 0]\n",
      " [0 1 1 1 1 1 1 1 1 1 1 1 1 1 0]\n",
      " [1 1 1 1 1 1 1 1 1 1 1 1 1 1 1]\n",
      " [1 1 1 1 1 1 1 1 1 1 1 1 1 1 1]\n",
      " [1 1 1 1 1 1 1 1 1 1 1 1 1 1 1]\n",
      " [1 1 1 1 1 1 1 1 1 1 1 1 1 1 1]\n",
      " [1 1 1 1 1 1 1 1 1 1 1 1 1 1 1]\n",
      " [0 1 1 1 1 1 1 1 1 1 1 1 1 1 0]\n",
      " [0 1 1 1 1 1 1 1 1 1 1 1 1 1 0]\n",
      " [0 0 1 1 1 1 1 1 1 1 1 1 1 0 0]\n",
      " [0 0 0 1 1 1 1 1 1 1 1 1 0 0 0]\n",
      " [0 0 0 0 0 0 0 1 0 0 0 0 0 0 0]]\n"
     ]
    }
   ],
   "source": [
    "#morphological filter\n",
    "\n",
    "import cv2\n",
    "import numpy as np\n",
    "\n",
    "img0 = cv2.imread('morphology_cell.png', cv2.IMREAD_GRAYSCALE)\n",
    "retval, img = cv2.threshold(img0, 225, 255, cv2.THRESH_BINARY)\n",
    "#Square Kernel\n",
    "#kernel = np.ones((5, 5), np.uint8)\n",
    "#Elliptical Kernel\n",
    "kernel = cv2.getStructuringElement(cv2.MORPH_ELLIPSE,(15,15))\n",
    "\"\"\"\n",
    "kernel = np.array(\n",
    "         [[0, 0, 1, 0, 0],\n",
    "          [1, 1, 1, 1, 1],\n",
    "          [1, 1, 1, 1, 1],\n",
    "          [1, 1, 1, 1, 1],\n",
    "          [0, 0, 1, 0, 0]], dtype=np.uint8)\n",
    "\"\"\"\n",
    "print(kernel)\n",
    "img_erosion = cv2.erode(img, kernel, iterations=1)   #收縮\n",
    "img_dilation = cv2.dilate(img, kernel, iterations=1) #擴張\n",
    "img_opening = cv2.morphologyEx(img, cv2.MORPH_OPEN, kernel) #先收縮再擴張\n",
    "img_closing = cv2.morphologyEx(img, cv2.MORPH_CLOSE, kernel) #先擴張再收縮\n",
    "cv2.imshow('Input', img)\n",
    "cv2.imshow('Erosion', img_erosion)\n",
    "cv2.imshow('Dilation', img_dilation)\n",
    "cv2.imshow('Opening', img_opening)\n",
    "cv2.imshow('Closing', img_closing)\n",
    "cv2.waitKey()\n",
    "cv2.destroyAllWindows()"
   ]
  },
  {
   "cell_type": "code",
   "execution_count": 17,
   "metadata": {},
   "outputs": [
    {
     "name": "stdout",
     "output_type": "stream",
     "text": [
      "[[0 0 0 0 0 0 0 0 0 0 0 0 0 0 0 1 0 0 0 0 0 0 0 0 0 0 0 0 0 0]\n",
      " [0 0 0 0 0 0 0 0 0 0 1 1 1 1 1 1 1 1 1 1 1 0 0 0 0 0 0 0 0 0]\n",
      " [0 0 0 0 0 0 0 0 1 1 1 1 1 1 1 1 1 1 1 1 1 1 1 0 0 0 0 0 0 0]\n",
      " [0 0 0 0 0 0 1 1 1 1 1 1 1 1 1 1 1 1 1 1 1 1 1 1 1 0 0 0 0 0]\n",
      " [0 0 0 0 0 1 1 1 1 1 1 1 1 1 1 1 1 1 1 1 1 1 1 1 1 1 0 0 0 0]\n",
      " [0 0 0 0 1 1 1 1 1 1 1 1 1 1 1 1 1 1 1 1 1 1 1 1 1 1 1 0 0 0]\n",
      " [0 0 0 1 1 1 1 1 1 1 1 1 1 1 1 1 1 1 1 1 1 1 1 1 1 1 1 1 0 0]\n",
      " [0 0 1 1 1 1 1 1 1 1 1 1 1 1 1 1 1 1 1 1 1 1 1 1 1 1 1 1 1 0]\n",
      " [0 0 1 1 1 1 1 1 1 1 1 1 1 1 1 1 1 1 1 1 1 1 1 1 1 1 1 1 1 0]\n",
      " [0 1 1 1 1 1 1 1 1 1 1 1 1 1 1 1 1 1 1 1 1 1 1 1 1 1 1 1 1 1]\n",
      " [0 1 1 1 1 1 1 1 1 1 1 1 1 1 1 1 1 1 1 1 1 1 1 1 1 1 1 1 1 1]\n",
      " [0 1 1 1 1 1 1 1 1 1 1 1 1 1 1 1 1 1 1 1 1 1 1 1 1 1 1 1 1 1]\n",
      " [1 1 1 1 1 1 1 1 1 1 1 1 1 1 1 1 1 1 1 1 1 1 1 1 1 1 1 1 1 1]\n",
      " [1 1 1 1 1 1 1 1 1 1 1 1 1 1 1 1 1 1 1 1 1 1 1 1 1 1 1 1 1 1]\n",
      " [1 1 1 1 1 1 1 1 1 1 1 1 1 1 1 1 1 1 1 1 1 1 1 1 1 1 1 1 1 1]\n",
      " [1 1 1 1 1 1 1 1 1 1 1 1 1 1 1 1 1 1 1 1 1 1 1 1 1 1 1 1 1 1]\n",
      " [1 1 1 1 1 1 1 1 1 1 1 1 1 1 1 1 1 1 1 1 1 1 1 1 1 1 1 1 1 1]\n",
      " [1 1 1 1 1 1 1 1 1 1 1 1 1 1 1 1 1 1 1 1 1 1 1 1 1 1 1 1 1 1]\n",
      " [1 1 1 1 1 1 1 1 1 1 1 1 1 1 1 1 1 1 1 1 1 1 1 1 1 1 1 1 1 1]\n",
      " [0 1 1 1 1 1 1 1 1 1 1 1 1 1 1 1 1 1 1 1 1 1 1 1 1 1 1 1 1 1]\n",
      " [0 1 1 1 1 1 1 1 1 1 1 1 1 1 1 1 1 1 1 1 1 1 1 1 1 1 1 1 1 1]\n",
      " [0 1 1 1 1 1 1 1 1 1 1 1 1 1 1 1 1 1 1 1 1 1 1 1 1 1 1 1 1 1]\n",
      " [0 0 1 1 1 1 1 1 1 1 1 1 1 1 1 1 1 1 1 1 1 1 1 1 1 1 1 1 1 0]\n",
      " [0 0 1 1 1 1 1 1 1 1 1 1 1 1 1 1 1 1 1 1 1 1 1 1 1 1 1 1 1 0]\n",
      " [0 0 0 1 1 1 1 1 1 1 1 1 1 1 1 1 1 1 1 1 1 1 1 1 1 1 1 1 0 0]\n",
      " [0 0 0 0 1 1 1 1 1 1 1 1 1 1 1 1 1 1 1 1 1 1 1 1 1 1 1 0 0 0]\n",
      " [0 0 0 0 0 1 1 1 1 1 1 1 1 1 1 1 1 1 1 1 1 1 1 1 1 1 0 0 0 0]\n",
      " [0 0 0 0 0 0 1 1 1 1 1 1 1 1 1 1 1 1 1 1 1 1 1 1 1 0 0 0 0 0]\n",
      " [0 0 0 0 0 0 0 0 1 1 1 1 1 1 1 1 1 1 1 1 1 1 1 0 0 0 0 0 0 0]\n",
      " [0 0 0 0 0 0 0 0 0 0 1 1 1 1 1 1 1 1 1 1 1 0 0 0 0 0 0 0 0 0]]\n"
     ]
    },
    {
     "data": {
      "image/png": "[encoded data removed]",
      "text/plain": [
       "<Figure size 640x480 with 3 Axes>"
      ]
     },
     "metadata": {},
     "output_type": "display_data"
    }
   ],
   "source": [
    "#gear tooth inspection using morphological filter\n",
    "\n",
    "import cv2\n",
    "import numpy as np\n",
    "from matplotlib import pyplot as plt\n",
    "\n",
    "img = cv2.imread('gear_tooth.png', cv2.IMREAD_GRAYSCALE)\n",
    "retval, img_a = cv2.threshold(img, 225, 255, cv2.THRESH_BINARY)\n",
    "\n",
    "kernel_dot = cv2.getStructuringElement(cv2.MORPH_ELLIPSE,(3,3))\n",
    "kernel_hole = cv2.getStructuringElement(cv2.MORPH_ELLIPSE,(30,30))\n",
    "print(kernel_hole)\n",
    "kernel_hole_e = cv2.erode(kernel_hole, kernel_dot, iterations=1)\n",
    "kernel_hole_ring = kernel_hole - kernel_hole_e\n",
    "\n",
    "plt.subplot(1,3,1)\n",
    "plt.imshow(kernel_hole, cmap = 'gray')\n",
    "plt.subplot(1,3,2)\n",
    "plt.imshow(kernel_hole_e, cmap = 'gray')\n",
    "plt.subplot(1,3,3)\n",
    "plt.imshow(kernel_hole_ring, cmap = 'gray')\n",
    "\n",
    "img_b = cv2.erode(img_a, kernel_hole_ring, iterations=1) # erode 找到缺口的位置\n",
    "img_c = cv2.dilate(img_b, kernel_hole, iterations=1)     # 在位置上 dilate 擴張成 kernel_hole 大小\n",
    "img_d = cv2.bitwise_or(img, img_c)                      # 填滿孔洞大小 做 OR\n",
    "\n",
    "cv2.imshow('(a)', img_a)\n",
    "cv2.imshow('(b)', img_b)\n",
    "cv2.imshow('(c)', img_c)\n",
    "cv2.imshow('(d)', img_d)\n",
    "\n",
    "cv2.waitKey()\n",
    "cv2.destroyAllWindows()"
   ]
  },
  {
   "attachments": {
    "gear_tooth_procedure.png": {
     "image/png": "[encoded data removed]"
    }
   },
   "cell_type": "markdown",
   "metadata": {},
   "source": [
    "###### %%writefile test\n",
    "## Homework 2 (Morphological Filter)\n",
    "1. Input image from gear_tooth.png.\n",
    "2. The objective is to detect missing teeth using a sequence of morphological filters.\n",
    "3. Optional: Design a set of structure elements: <b>gear_body</b>, <b>sampling_ring_spacer</b>, <b>sampling_ring_width</b>, <b>tip_spacing</b>, <b>defect_cue</b>\n",
    "4. Apply morphological filters using the structure elements to generate the figures (e), (f), (g), (h)\n",
    "<br>&nbsp;(e) opening it with structure element <b>gear_body</b> to get rid of the teeth, dilating that with structure element <b>sampling_ring_spacer</b> to bring it out to the base of the teeth, dilating that with the structure element <b>sampling_ring_width</b> to bring the next image out to the tip of the teeth, and subtracting the last two results to get a ring that just fits over the teeth.\n",
    "<br>&nbsp;(f) AND it with the original image to produce an image of just the teeth.\n",
    "<br>&nbsp;(g) dilating the teeth image with the structure element <b>tip_spacing</b> produces the solid ring image which has spaces in the solid ring wherever there are defects in the teeth.\n",
    "<br>&nbsp;(h) subtracting it from the sampling ring leaves only the defects, which are dilated by structure element <b>defect_cue</b>.\n",
    "5. Mark the defected gears using <b>red rectangles</b> on the output images.\n",
    "6. Write a simple report in a separate cell.\n",
    "7. Upload your Jupyter code file (*.ipynb)\n",
    "![gear_tooth_procedure.png](attachment:gear_tooth_procedure.png)"
   ]
  },
  {
   "cell_type": "code",
   "execution_count": 93,
   "metadata": {},
   "outputs": [
    {
     "name": "stdout",
     "output_type": "stream",
     "text": [
      "(173, 292)\n"
     ]
    },
    {
     "data": {
      "image/png": "[encoded data removed]",
      "text/plain": [
       "<Figure size 640x480 with 3 Axes>"
      ]
     },
     "metadata": {},
     "output_type": "display_data"
    }
   ],
   "source": [
    "#gear tooth inspection using morphological filter\n",
    "\n",
    "import cv2\n",
    "import numpy as np\n",
    "from matplotlib import pyplot as plt\n",
    "\n",
    "img = cv2.imread('gear_tooth.png', cv2.IMREAD_GRAYSCALE)\n",
    "print(img.shape)\n",
    "retval, img_a = cv2.threshold(img, 225, 255, cv2.THRESH_BINARY)\n",
    "\n",
    "kernel_dot = cv2.getStructuringElement(cv2.MORPH_ELLIPSE,(3,3))\n",
    "kernel_hole = cv2.getStructuringElement(cv2.MORPH_ELLIPSE,(30,30))\n",
    "kernel_hole_e = cv2.erode(kernel_hole, kernel_dot, iterations=1)\n",
    "kernel_hole_ring = kernel_hole - kernel_hole_e\n",
    "\n",
    "kernel_dot2 = cv2.getStructuringElement(cv2.MORPH_ELLIPSE,(3,3))\n",
    "kernel_hole2 = cv2.getStructuringElement(cv2.MORPH_ELLIPSE,(78,78))\n",
    "kernel_hole_e2 = cv2.erode(kernel_hole2, kernel_dot2, iterations=1)\n",
    "kernel_hole_ring2 = kernel_hole2 - kernel_hole_e2\n",
    "\n",
    "gear_body = cv2.getStructuringElement(cv2.MORPH_ELLIPSE,(81,81))\n",
    "gear_body2 = cv2.getStructuringElement(cv2.MORPH_ELLIPSE,(87,87))\n",
    "tip_spacing = cv2.getStructuringElement(cv2.MORPH_ELLIPSE,(5,5))\n",
    "\n",
    "plt.subplot(1,3,1)\n",
    "plt.imshow(kernel_hole2, cmap = 'gray')\n",
    "plt.subplot(1,3,2)\n",
    "plt.imshow(kernel_hole_e2, cmap = 'gray')\n",
    "plt.subplot(1,3,3)\n",
    "plt.imshow(kernel_hole_ring2, cmap = 'gray')\n",
    "\n",
    "img_b = cv2.erode(img_a, kernel_hole_ring, iterations=1) # erode 找到缺口的位置\n",
    "img_c = cv2.dilate(img_b, kernel_hole, iterations=1)     # 在位置上 dilate 擴張成 kernel_hole 大小\n",
    "img_d = cv2.bitwise_or(img, img_c)                      # 填滿孔洞大小 做 OR\n",
    "img_e_dot = cv2.erode(img_d, kernel_hole_ring2, iterations=1)\n",
    "img_e1 = cv2.dilate(img_e_dot, gear_body, iterations=1) \n",
    "img_e2 = cv2.dilate(img_e_dot, gear_body2, iterations=1)\n",
    "img_e = img_e2-img_e1\n",
    "\n",
    "img_f = cv2.bitwise_and(img, img_e)\n",
    "retval, img_f = cv2.threshold(img_f, 100, 255, cv2.THRESH_BINARY)\n",
    "img_g = cv2.dilate(img_f, tip_spacing, iterations=1)\n",
    "\n",
    "cv2.imshow('(a)', img_a)\n",
    "cv2.imshow('(b)', img_b)\n",
    "cv2.imshow('(c)', img_c)\n",
    "cv2.imshow('(d)', img_d)\n",
    "#cv2.imshow('(e_d)', img_e_dot)\n",
    "cv2.imshow('(e)', img_e)\n",
    "cv2.imshow('(f)', img_f)\n",
    "cv2.imshow('(g)', img_g)\n",
    "\n",
    "cv2.waitKey()\n",
    "cv2.destroyAllWindows()"
   ]
  },
  {
   "cell_type": "code",
   "execution_count": null,
   "metadata": {},
   "outputs": [],
   "source": []
  },
  {
   "cell_type": "code",
   "execution_count": null,
   "metadata": {},
   "outputs": [],
   "source": []
  },
  {
   "cell_type": "code",
   "execution_count": null,
   "metadata": {},
   "outputs": [],
   "source": []
  },
  {
   "cell_type": "code",
   "execution_count": null,
   "metadata": {},
   "outputs": [],
   "source": []
  },
  {
   "cell_type": "code",
   "execution_count": null,
   "metadata": {},
   "outputs": [],
   "source": [
    "kernel_hole_mask = np.array(\n",
    "[[0 0 0 0 0 0 0 0 0 0 0 0 0 0 0 0 0 0 0 0 0 0 0 0 0 0 0 0 0 0],\n",
    " [0 0 0 0 0 0 0 0 0 0 0 0 0 0 0 0 0 0 0 0 0 0 0 0 0 0 0 0 0 0],\n",
    " [0 0 0 0 0 0 0 0 1 1 1 1 1 1 1 1 1 1 1 1 1 1 1 0 0 0 0 0 0 0],\n",
    " [0 0 0 0 0 0 1 1 1 1 1 1 1 1 1 1 1 1 1 1 1 1 1 1 1 0 0 0 0 0],\n",
    " [0 0 0 0 0 1 1 1 1 1 1 1 1 1 1 1 1 1 1 1 1 1 1 1 1 1 0 0 0 0],\n",
    " [0 0 0 0 1 1 1 1 1 1 1 1 1 1 1 1 1 1 1 1 1 1 1 1 1 1 1 0 0 0],\n",
    " [0 0 0 1 1 1 1 1 1 1 1 1 1 1 1 1 1 1 1 1 1 1 1 1 1 1 1 1 0 0],\n",
    " [0 0 1 1 1 1 1 1 1 1 1 1 1 1 1 1 1 1 1 1 1 1 1 1 1 1 1 1 0 0],\n",
    " [0 0 1 1 1 1 1 1 1 1 1 1 1 1 1 1 1 1 1 1 1 1 1 1 1 1 1 1 0 0],\n",
    " [0 0 1 1 1 1 1 1 1 1 1 1 1 1 1 1 1 1 1 1 1 1 1 1 1 1 1 1 0 0],\n",
    " [0 0 1 1 1 1 1 1 1 1 1 1 1 1 1 1 1 1 1 1 1 1 1 1 1 1 1 1 0 0],\n",
    " [0 0 1 1 1 1 1 1 1 1 1 1 1 1 1 1 1 1 1 1 1 1 1 1 1 1 1 1 0 0],\n",
    " [0 0 1 1 1 1 1 1 1 1 1 1 1 1 1 1 1 1 1 1 1 1 1 1 1 1 1 1 0 0],\n",
    " [0 0 1 1 1 1 1 1 1 1 1 1 1 1 1 1 1 1 1 1 1 1 1 1 1 1 1 1 0 0],\n",
    " [0 0 1 1 1 1 1 1 1 1 1 1 1 1 1 1 1 1 1 1 1 1 1 1 1 1 1 1 0 0],\n",
    " [0 0 1 1 1 1 1 1 1 1 1 1 1 1 1 1 1 1 1 1 1 1 1 1 1 1 1 1 0 0],\n",
    " [0 0 1 1 1 1 1 1 1 1 1 1 1 1 1 1 1 1 1 1 1 1 1 1 1 1 1 1 0 0],\n",
    " [0 0 1 1 1 1 1 1 1 1 1 1 1 1 1 1 1 1 1 1 1 1 1 1 1 1 1 1 0 0],\n",
    " [0 0 1 1 1 1 1 1 1 1 1 1 1 1 1 1 1 1 1 1 1 1 1 1 1 1 1 1 0 0],\n",
    " [0 0 1 1 1 1 1 1 1 1 1 1 1 1 1 1 1 1 1 1 1 1 1 1 1 1 1 1 0 0],\n",
    " [0 0 1 1 1 1 1 1 1 1 1 1 1 1 1 1 1 1 1 1 1 1 1 1 1 1 1 1 0 0],\n",
    " [0 0 1 1 1 1 1 1 1 1 1 1 1 1 1 1 1 1 1 1 1 1 1 1 1 1 1 1 0 0],\n",
    " [0 0 1 1 1 1 1 1 1 1 1 1 1 1 1 1 1 1 1 1 1 1 1 1 1 1 1 1 0 0],\n",
    " [0 0 1 1 1 1 1 1 1 1 1 1 1 1 1 1 1 1 1 1 1 1 1 1 1 1 1 1 0 0],\n",
    " [0 0 0 1 1 1 1 1 1 1 1 1 1 1 1 1 1 1 1 1 1 1 1 1 1 1 1 1 0 0],\n",
    " [0 0 0 0 1 1 1 1 1 1 1 1 1 1 1 1 1 1 1 1 1 1 1 1 1 1 1 0 0 0],\n",
    " [0 0 0 0 0 0 1 1 1 1 1 1 1 1 1 1 1 1 1 1 1 1 1 1 1 1 0 0 0 0],\n",
    " [0 0 0 0 0 0 1 1 1 1 1 1 1 1 1 1 1 1 1 1 1 1 1 1 1 0 0 0 0 0],\n",
    " [0 0 0 0 0 0 0 0 0 0 0 0 0 0 0 0 0 0 0 0 0 0 0 0 0 0 0 0 0 0],\n",
    " [0 0 0 0 0 0 0 0 0 0 0 0 0 0 0 0 0 0 0 0 0 0 0 0 0 0 0 0 0 0]], dtype=np.uint8)"
   ]
  }
 ],
 "metadata": {
  "kernelspec": {
   "display_name": "Python 3 (ipykernel)",
   "language": "python",
   "name": "python3"
  },
  "language_info": {
   "codemirror_mode": {
    "name": "ipython",
    "version": 3
   },
   "file_extension": ".py",
   "mimetype": "text/x-python",
   "name": "python",
   "nbconvert_exporter": "python",
   "pygments_lexer": "ipython3",
   "version": "3.9.16"
  }
 },
 "nbformat": 4,
 "nbformat_minor": 2
}
