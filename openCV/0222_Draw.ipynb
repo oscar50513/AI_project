{
 "cells": [
  {
   "cell_type": "markdown",
   "id": "6d16055e",
   "metadata": {},
   "source": [
    "# Practice 0222 - Example\n",
    "\n",
    "\n",
    "## Practice\n",
    "1. Read an image from file\n",
    "2. Draw two lines\n",
    "3. Draw a circle\n",
    "4. Draw a rectangle\n",
    "5. Draw text (your student id)\n",
    "6. Show the image\n",
    "7. Write the image to file\n",
    "8. Upload your image file"
   ]
  },
  {
   "cell_type": "code",
   "execution_count": 1,
   "id": "1ad9807c",
   "metadata": {},
   "outputs": [
    {
     "name": "stdout",
     "output_type": "stream",
     "text": [
      "height, width =  225 225\n"
     ]
    }
   ],
   "source": [
    "# %%writefile _0223_0224_Practice_Example.py\n",
    "\n",
    "import cv2\n",
    "import numpy\n",
    "\n",
    "\n",
    "# 讀取圖片 \n",
    "# 選取檔案位置 \n",
    "# Read image \n",
    "# Choise the image path\n",
    "img = cv2.imread('D:/Desktop/Class_Practices/Data/sakura.jpg')\n",
    "height, width, channels = img.shape\n",
    "print(\"height, width = \" , height, width)\n",
    "\n",
    "\n",
    "# Draw lines\n",
    "# 畫直線\n",
    "BGR = (113,142,239)\n",
    "img = cv2.line(img, (0,0) , (height, width) , BGR , 23)\n",
    "\n",
    "# Draw lines\n",
    "# 畫直線\n",
    "BGR = (113,142,239)\n",
    "img = cv2.line(img, (height,0) , (0, width) , BGR , 23)\n",
    "\n",
    "# Draw circle\n",
    "#畫圓形\n",
    "BGR = (239,222,113)\n",
    "img = cv2.circle(img, (112 , 112), 50 , BGR , -1)\n",
    "\n",
    "# Draw rectangle\n",
    "# 畫方形\n",
    "BGR = (113,210,239)\n",
    "img = cv2.rectangle(img, (20,90) , (205, 134) , BGR , 5)\n",
    "\n",
    "# Put text\n",
    "# 放上文字\n",
    "BGR = (113,210,239)\n",
    "cv2.putText(img, \"Your Student ID\" , (40, 120), cv2.FONT_HERSHEY_SIMPLEX, 0.6, BGR , 2)\n",
    "\n",
    "# Show image\n",
    "# 顯示圖片\n",
    "cv2.imshow('img', img)\n",
    "cv2.waitKey()\n",
    "cv2.destroyAllWindows()"
   ]
  }
 ],
 "metadata": {
  "kernelspec": {
   "display_name": "Python 3 (ipykernel)",
   "language": "python",
   "name": "python3"
  },
  "language_info": {
   "codemirror_mode": {
    "name": "ipython",
    "version": 3
   },
   "file_extension": ".py",
   "mimetype": "text/x-python",
   "name": "python",
   "nbconvert_exporter": "python",
   "pygments_lexer": "ipython3",
   "version": "3.9.12"
  },
  "toc": {
   "base_numbering": 1,
   "nav_menu": {},
   "number_sections": true,
   "sideBar": true,
   "skip_h1_title": false,
   "title_cell": "Table of Contents",
   "title_sidebar": "Contents",
   "toc_cell": false,
   "toc_position": {},
   "toc_section_display": true,
   "toc_window_display": false
  },
  "vscode": {
   "interpreter": {
    "hash": "d5b2890e42e12b8305c2a0f9da621f0f858c988f096bbf3c13fbe28df84101f1"
   }
  }
 },
 "nbformat": 4,
 "nbformat_minor": 5
}
