{
 "cells": [
  {
   "cell_type": "code",
   "execution_count": 1,
   "id": "7a3ee7d7",
   "metadata": {},
   "outputs": [],
   "source": [
    "import os \n",
    "import numpy as np\n",
    "import cv2\n",
    "import matplotlib.pyplot as plt"
   ]
  },
  {
   "cell_type": "code",
   "execution_count": 2,
   "id": "d71e9805",
   "metadata": {},
   "outputs": [
    {
     "name": "stdout",
     "output_type": "stream",
     "text": [
      "data number: 26000\n"
     ]
    }
   ],
   "source": [
    "# 注意這邊要跟你的資料夾位置一樣\n",
    "path = \"AZ_Handwritten_Data/\"\n",
    "class_filenames = os.listdir(path)\n",
    "print('data number:',len(class_filenames))\n",
    "N = len(class_filenames)\n",
    "W = 28\n",
    "H = 28"
   ]
  },
  {
   "cell_type": "code",
   "execution_count": 3,
   "id": "a3a26049",
   "metadata": {},
   "outputs": [
    {
     "name": "stdout",
     "output_type": "stream",
     "text": [
      "(26000, 28, 28, 1)\n",
      "(26000,)\n"
     ]
    }
   ],
   "source": [
    "images = np.empty((N, W, H, 1), dtype=\"uint8\")\n",
    "labels = np.array([0]* len(class_filenames))\n",
    "print(images.shape)\n",
    "print(labels.shape)"
   ]
  },
  {
   "cell_type": "code",
   "execution_count": 4,
   "id": "731b5373",
   "metadata": {},
   "outputs": [],
   "source": [
    "for i in range(N):\n",
    "    labels[i] = ord(class_filenames[i][0])-65  # ord('A') = 65\n",
    "    #print(class_filenames[i][0])\n",
    "    #print(labels[i])\n",
    "    img = cv2.imread(path+class_filenames[i])\n",
    "    img = cv2.cvtColor(img, cv2.COLOR_BGR2GRAY)\n",
    "    #img = img.astype('float32')/255\n",
    "    img = np.expand_dims(img, -1)\n",
    "    #print(img.shape) (28, 28, 1)\n",
    "    images[i,:,:,:] = img\n",
    "    #break"
   ]
  },
  {
   "cell_type": "code",
   "execution_count": 5,
   "id": "de6af024",
   "metadata": {},
   "outputs": [
    {
     "name": "stdout",
     "output_type": "stream",
     "text": [
      "(28, 28)\n"
     ]
    },
    {
     "data": {
      "image/png": "[encoded data removed]",
      "text/plain": [
       "<Figure size 640x480 with 1 Axes>"
      ]
     },
     "metadata": {},
     "output_type": "display_data"
    }
   ],
   "source": [
    "# 畫出第一張圖:\n",
    "img = np.squeeze(images[0], -1)\n",
    "#img = img.astype('float32')*255\n",
    "print(img.shape)\n",
    "plt.imshow(img, cmap=\"gray\")\n",
    "plt.title(chr(labels[0]+65), size=25)\n",
    "plt.show()"
   ]
  },
  {
   "cell_type": "code",
   "execution_count": 7,
   "id": "9510b51f",
   "metadata": {},
   "outputs": [
    {
     "name": "stdout",
     "output_type": "stream",
     "text": [
      "訓練集的類別數量：Counter({23: 824, 18: 818, 1: 818, 13: 813, 20: 810, 0: 809, 5: 809, 7: 808, 17: 807, 15: 806, 24: 805, 14: 805, 4: 805, 16: 803, 22: 802, 21: 800, 19: 797, 25: 797, 10: 791, 8: 788, 11: 787, 9: 786, 2: 782, 3: 781, 12: 779, 6: 770})\n",
      "訓練集的維度： (20800, 28, 28, 1)\n",
      "測試集的類別數量：Counter({6: 230, 12: 221, 3: 219, 2: 218, 9: 214, 11: 213, 8: 212, 10: 209, 19: 203, 25: 203, 21: 200, 22: 198, 16: 197, 4: 195, 24: 195, 14: 195, 15: 194, 17: 193, 7: 192, 5: 191, 0: 191, 20: 190, 13: 187, 18: 182, 1: 182, 23: 176})\n",
      "測試集的維度： (5200, 28, 28, 1)\n"
     ]
    }
   ],
   "source": [
    "from sklearn.model_selection import train_test_split\n",
    "x_train_image, x_test_image, y_train_label, y_test_label = train_test_split(images, labels, test_size=0.2, random_state=42)\n",
    "from collections import Counter\n",
    "print(\"訓練集的類別數量：%s\" %Counter(y_train_label))\n",
    "print(\"訓練集的維度：\", x_train_image.shape)\n",
    "print(\"測試集的類別數量：%s\" %Counter(y_test_label))\n",
    "print(\"測試集的維度：\", x_test_image.shape)"
   ]
  },
  {
   "cell_type": "code",
   "execution_count": null,
   "id": "6824cdab",
   "metadata": {},
   "outputs": [],
   "source": [
    "# 資料前處理 (正規化、維度改變、標籤讀熱編碼)\n",
    "from tensorflow.keras.utils import to_categorical\n",
    "import numpy as np\n",
    "y_train = to_categorical(y_train_label)\n",
    "y_test = to_categorical(y_test_label)\n",
    "print(\"原始label:\", y_train_label[5])\n",
    "print(\"讀熱label:\",y_train[5])\n",
    "\n",
    "x_train = x_train_image.astype('float32')/255\n",
    "x_test = x_test_image.astype('float32')/255\n",
    "print(\"訓練集的維度：\",x_train.shape)\n",
    "print(\"測試集的維度：\",x_test.shape)"
   ]
  },
  {
   "cell_type": "code",
   "execution_count": null,
   "id": "c335dac2",
   "metadata": {},
   "outputs": [],
   "source": [
    "# 畫出訓練集:\n",
    "img = np.squeeze(x_test[10], -1)\n",
    "#img = img.astype('float32')*255\n",
    "print(img.shape)\n",
    "plt.imshow(img, cmap=\"gray\")\n",
    "plt.title(chr(y_test_label[10]+65), size=25)\n",
    "plt.show()"
   ]
  },
  {
   "cell_type": "code",
   "execution_count": null,
   "id": "629e3285",
   "metadata": {},
   "outputs": [],
   "source": [
    "# 建立模型\n",
    "import tensorflow as tf\n",
    "from tensorflow.keras.models import Sequential\n",
    "from tensorflow.keras.layers import Dense, Conv2D, MaxPool2D, Flatten, Dropout\n",
    "\n",
    "cnn = Sequential(name=\"English_handwriting\")\n",
    "cnn.add(Conv2D(16, (4,4), activation='relu', padding='same', input_shape=(28,28,1)))\n",
    "cnn.add(Dropout(0.2))\n",
    "cnn.add(Conv2D(32, (2,2), activation='relu', padding='same'))\n",
    "cnn.add(Dropout(0.2))\n",
    "cnn.add(Flatten())\n",
    "cnn.add(Dense(32, activation='relu'))\n",
    "cnn.add(Dense(26, activation='softmax'))\n",
    "\n",
    "cnn.summary()\n",
    "print(\"\\n模型參數量:\", cnn.count_params())"
   ]
  },
  {
   "cell_type": "code",
   "execution_count": null,
   "id": "1a76928d",
   "metadata": {},
   "outputs": [],
   "source": [
    "# 設定優化器\n",
    "from tensorflow.keras.optimizers import Adam\n",
    "Adam = Adam(learning_rate=0.0001)\n",
    "\n",
    "# 編譯方式\n",
    "cnn.compile(optimizer=Adam, loss='categorical_crossentropy', metrics=['acc'])\n",
    "\n",
    "from tensorflow.keras.callbacks import TensorBoard, ModelCheckpoint\n",
    "# 可視化訓練過程\n",
    "tensorboard = TensorBoard(log_dir=\"my_log\")\n",
    "\n",
    "# 模型檢查點\n",
    "model_checkpoint = ModelCheckpoint(filepath=\"weight.{epoch:02d}-{val_acc:.4f}.h5\", \n",
    "                                monitor=\"val_acc\", save_best_only=True, verbose=0)"
   ]
  },
  {
   "cell_type": "code",
   "execution_count": null,
   "id": "06531a3b",
   "metadata": {},
   "outputs": [],
   "source": [
    "# 訓練模型\n",
    "history = cnn.fit(x=x_train, y=y_train, batch_size=32, epochs=10, verbose=1, shuffle=True, \n",
    "                               validation_data=(x_test, y_test), callbacks=[tensorboard, model_checkpoint])"
   ]
  },
  {
   "cell_type": "code",
   "execution_count": null,
   "id": "902e8b91",
   "metadata": {},
   "outputs": [],
   "source": [
    "# 繪製訓練過程\n",
    "acc = history.history['acc'];\n",
    "loss = history.history['loss']\n",
    "val_acc = history.history['val_acc'];\n",
    "val_loss = history.history['val_loss']\n",
    "plt.title(\"Learning Curve - Acc\", fontsize=20)\n",
    "plt.xlabel(\"Epoch\", fontsize=18)\n",
    "plt.ylabel(\"Accuracy\", fontsize=18)\n",
    "plt.plot(np.arange(len(acc)), acc,color='b', label=\"Training set\")\n",
    "plt.plot(np.arange(len(val_acc)), val_acc,color='r', label=\"Test set\")\n",
    "plt.xticks(fontsize=14)\n",
    "plt.yticks(fontsize=14)\n",
    "plt.legend(loc='lower right',fontsize=14)\n",
    "plt.show()\n",
    "\n",
    "plt.title(\"Learning Curve - Loss\", fontsize=20)\n",
    "plt.xlabel(\"Epoch\", fontsize=18)\n",
    "plt.ylabel(\"Accuracy\", fontsize=18)\n",
    "plt.plot(np.arange(len(loss)), loss,color='b', label=\"Training set\")\n",
    "plt.plot(np.arange(len(val_loss)), val_loss,color='r', label=\"Test set\")\n",
    "plt.xticks(fontsize=14)\n",
    "plt.yticks(fontsize=14)\n",
    "plt.legend(loc='lower right',fontsize=14)\n",
    "plt.show()"
   ]
  },
  {
   "cell_type": "code",
   "execution_count": null,
   "id": "64f9e4a8",
   "metadata": {},
   "outputs": [],
   "source": [
    "%load_ext tensorboard\n",
    "%tensorboard --logdir=my_log"
   ]
  },
  {
   "cell_type": "code",
   "execution_count": null,
   "id": "07b55c30",
   "metadata": {},
   "outputs": [],
   "source": [
    "# 測試集預測\n",
    "test_predict = cnn.predict(x_test)\n",
    "test_predictions = [np.argmax(i) for i in test_predict]\n",
    "print(len(y_test_label))\n",
    "print(len(test_predictions))\n",
    "# 混淆矩陣\n",
    "from sklearn.metrics import confusion_matrix, ConfusionMatrixDisplay\n",
    "test_cm = confusion_matrix(y_test_label, test_predictions)\n",
    "print(test_cm)\n",
    "\n",
    "disp = ConfusionMatrixDisplay(confusion_matrix=test_cm)\n",
    "disp.plot( cmap='Oranges')\n",
    "fig = disp.figure_\n",
    "fig.set_size_inches(8, 8)\n",
    "plt.title('Test set', size = 20)\n",
    "plt.show()"
   ]
  }
 ],
 "metadata": {
  "kernelspec": {
   "display_name": "Python 3 (ipykernel)",
   "language": "python",
   "name": "python3"
  },
  "language_info": {
   "codemirror_mode": {
    "name": "ipython",
    "version": 3
   },
   "file_extension": ".py",
   "mimetype": "text/x-python",
   "name": "python",
   "nbconvert_exporter": "python",
   "pygments_lexer": "ipython3",
   "version": "3.9.16"
  }
 },
 "nbformat": 4,
 "nbformat_minor": 5
}
