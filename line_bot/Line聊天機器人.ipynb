{
 "cells": [
  {
   "cell_type": "markdown",
   "id": "3978c37e",
   "metadata": {},
   "source": [
    "## 簡單的git指令\n",
    "\n",
    "    git add.\n",
    "    git commit -am \"增/刪/改的功能描述\"\n",
    "    git push heroku master\n",
    "    git status  #查看狀態\n",
    "   https://ithelp.ithome.com.tw/articles/10233234"
   ]
  }
 ],
 "metadata": {
  "kernelspec": {
   "display_name": "Python 3 (ipykernel)",
   "language": "python",
   "name": "python3"
  },
  "language_info": {
   "codemirror_mode": {
    "name": "ipython",
    "version": 3
   },
   "file_extension": ".py",
   "mimetype": "text/x-python",
   "name": "python",
   "nbconvert_exporter": "python",
   "pygments_lexer": "ipython3",
   "version": "3.8.8"
  }
 },
 "nbformat": 4,
 "nbformat_minor": 5
}
