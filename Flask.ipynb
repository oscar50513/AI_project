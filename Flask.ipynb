{
 "cells": [
  {
   "cell_type": "markdown",
   "id": "c8057489",
   "metadata": {},
   "source": [
    "# Flask程式基本架構\n",
    "\n",
    "https://www.maxlist.xyz/2020/05/01/flask-list/  \n",
    "\n",
    "* 匯入Flask 模組:\n",
    "    * from flask import Flask\n",
    "    * app = Flask(__ name __)\n",
    "* 執行 Flask 程式:\n",
    "    * if __ main __ == '__ name __'：\n",
    "    *     app.run()\n",
    "* 建立路由(route):    \n",
    "```    \n",
    "@app.route('網頁路徑')\n",
    "def 函式名稱():\n",
    "    程式內容~\n",
    "```\n",
    "* app.run():\n",
    "    * host 設定伺服器服務位址，預設為「127.0.0.1」\n",
    "        * 當開發完成設為「0.0.0.0」，表示無論本地位址或真實位址都能連上Flask伺服器。\n",
    "    * port 設定埠號，預設為「5000」\n",
    "    * debug 設定是否顯示錯誤訊息。\n",
    "        * 當開發完成時須設為「False」"
   ]
  },
  {
   "cell_type": "code",
   "execution_count": 9,
   "id": "2eac7537",
   "metadata": {},
   "outputs": [
    {
     "name": "stdout",
     "output_type": "stream",
     "text": [
      " * Serving Flask app \"__main__\" (lazy loading)\n",
      " * Environment: production\n",
      "\u001b[31m   WARNING: This is a development server. Do not use it in a production deployment.\u001b[0m\n",
      "\u001b[2m   Use a production WSGI server instead.\u001b[0m\n",
      " * Debug mode: off\n"
     ]
    },
    {
     "name": "stderr",
     "output_type": "stream",
     "text": [
      " * Running on http://0.0.0.0:80/ (Press CTRL+C to quit)\n"
     ]
    }
   ],
   "source": [
    "from flask import Flask\n",
    "app = Flask(__name__)\n",
    "\n",
    "@app.route('/')\n",
    "@app.route('/index')\n",
    "def index():\n",
    "    return '歡迎來到首頁!'\n",
    "@app.route('/hello')\n",
    "def hrllo():\n",
    "    return '歡迎來到hello頁面!'\n",
    "\n",
    "if __name__ == '__main__':\n",
    "    app.run(host='0.0.0.0', port=80, debug=False)"
   ]
  },
  {
   "cell_type": "markdown",
   "id": "4b6b5783",
   "metadata": {},
   "source": [
    "###  建立動態路由:路由參數傳遞~\n",
    ">@app.ruto('網頁路徑/<資料型態:參數>/<資料型態:參數>/.....)\n",
    "\n",
    "|資料型態|說明|\n",
    "|-------|----|\n",
    "|string|字串(預設)|\n",
    "|int|整數|\n",
    "|float|浮點數|\n",
    "|path|包含「/」字元的路徑名稱|"
   ]
  },
  {
   "cell_type": "code",
   "execution_count": 7,
   "id": "dd1c2090",
   "metadata": {},
   "outputs": [
    {
     "name": "stdout",
     "output_type": "stream",
     "text": [
      " * Serving Flask app \"__main__\" (lazy loading)\n",
      " * Environment: production\n",
      "\u001b[31m   WARNING: This is a development server. Do not use it in a production deployment.\u001b[0m\n",
      "\u001b[2m   Use a production WSGI server instead.\u001b[0m\n",
      " * Debug mode: off\n"
     ]
    },
    {
     "name": "stderr",
     "output_type": "stream",
     "text": [
      " * Running on http://127.0.0.1:5000/ (Press CTRL+C to quit)\n",
      "127.0.0.1 - - [27/Oct/2021 23:26:26] \"\u001b[37mGET / HTTP/1.1\u001b[0m\" 200 -\n",
      "127.0.0.1 - - [27/Oct/2021 23:26:33] \"\u001b[33mGET /hello HTTP/1.1\u001b[0m\" 404 -\n",
      "127.0.0.1 - - [27/Oct/2021 23:26:43] \"\u001b[37mGET /hello/oscar HTTP/1.1\u001b[0m\" 200 -\n"
     ]
    }
   ],
   "source": [
    "from flask import Flask\n",
    "app = Flask(__name__)\n",
    "\n",
    "@app.route('/')\n",
    "@app.route('/index')\n",
    "def index():\n",
    "    return '歡迎來到首頁!'\n",
    "@app.route('/hello/<string:name>')\n",
    "def hello(name):\n",
    "    return '{},歡迎來到hello頁面!'.format(name)\n",
    "\n",
    "if __name__ == '__main__':\n",
    "    app.run()\n",
    "    \n",
    "#http://127.0.0.1:5000/hello/oscar"
   ]
  },
  {
   "cell_type": "markdown",
   "id": "79d9ab4f",
   "metadata": {},
   "source": [
    "# 使用GET與POST方式傳送資料\n",
    "\n",
    "## GET傳送參數\n",
    "\n",
    ">網址?參數1=值1&參數2=值2&參數3=值3............\n",
    "\n",
    ">http://127.0.0.1:5000/test?name=oscar&id=410823001\n",
    "* app.route@('/路徑', methods=['GET'])\n",
    "\n",
    "## 接收GET參數\n",
    "* from flask import request\n",
    "* request.args.get('name')"
   ]
  },
  {
   "cell_type": "code",
   "execution_count": 10,
   "id": "74810038",
   "metadata": {},
   "outputs": [
    {
     "name": "stdout",
     "output_type": "stream",
     "text": [
      " * Serving Flask app \"__main__\" (lazy loading)\n",
      " * Environment: production\n",
      "\u001b[31m   WARNING: This is a development server. Do not use it in a production deployment.\u001b[0m\n",
      "\u001b[2m   Use a production WSGI server instead.\u001b[0m\n",
      " * Debug mode: off\n"
     ]
    },
    {
     "name": "stderr",
     "output_type": "stream",
     "text": [
      " * Running on http://127.0.0.1:5000/ (Press CTRL+C to quit)\n",
      "127.0.0.1 - - [27/Oct/2021 23:42:43] \"\u001b[37mGET / HTTP/1.1\u001b[0m\" 200 -\n",
      "127.0.0.1 - - [27/Oct/2021 23:42:57] \"\u001b[37mGET /?name=oscar HTTP/1.1\u001b[0m\" 200 -\n",
      "127.0.0.1 - - [27/Oct/2021 23:43:06] \"\u001b[37mGET /?name=oscar&id=123123 HTTP/1.1\u001b[0m\" 200 -\n"
     ]
    }
   ],
   "source": [
    "from flask import Flask\n",
    "from flask import request\n",
    "app = Flask(__name__)\n",
    "\n",
    "@app.route('/', methods=['GET'])\n",
    "def index():\n",
    "    name = request.args.get('name')\n",
    "    return \"Hello, {}\".format(name)\n",
    "\n",
    "if __name__ == \"__main__\":\n",
    "    app.run()"
   ]
  },
  {
   "cell_type": "markdown",
   "id": "70089d39",
   "metadata": {},
   "source": [
    "> 使用路由或GET方式傳送資料給網頁，所有傳送的資料都會暴露在網址列中，很不安全!\n",
    "\n",
    "##  POST傳送資料\n",
    "\n",
    "* 常使用表單(Form)形式傳送資料，不會顯示於網址列\n",
    "```\n",
    "<form method='post' action=''>\n",
    "    <p> 帳號: <input type='text' name='username' /></p>\n",
    "    <p> 密碼: <input type='text' name='password' /></p>\n",
    "    <P><button type='submit'>確定</button></p>\n",
    "</form>\n",
    "```\n",
    "* meothod='post' 表示已POST方式送出表單\n",
    "* action 設定表單要傳遞參數前往的頁面，空值是傳到原頁\n",
    "\n",
    "## 接收POST參數\n",
    "\n",
    "* app.route@('/路徑', methods=['GET','POST'])"
   ]
  },
  {
   "cell_type": "code",
   "execution_count": 18,
   "id": "4ea4b001",
   "metadata": {},
   "outputs": [
    {
     "name": "stdout",
     "output_type": "stream",
     "text": [
      " * Serving Flask app \"__main__\" (lazy loading)\n",
      " * Environment: production\n",
      "\u001b[31m   WARNING: This is a development server. Do not use it in a production deployment.\u001b[0m\n",
      "\u001b[2m   Use a production WSGI server instead.\u001b[0m\n",
      " * Debug mode: off\n"
     ]
    },
    {
     "name": "stderr",
     "output_type": "stream",
     "text": [
      " * Running on http://127.0.0.1:5000/ (Press CTRL+C to quit)\n",
      "127.0.0.1 - - [28/Oct/2021 00:07:14] \"\u001b[37mGET / HTTP/1.1\u001b[0m\" 200 -\n",
      "127.0.0.1 - - [28/Oct/2021 00:07:22] \"\u001b[37mPOST / HTTP/1.1\u001b[0m\" 200 -\n",
      "127.0.0.1 - - [28/Oct/2021 00:07:25] \"\u001b[37mPOST / HTTP/1.1\u001b[0m\" 200 -\n",
      "127.0.0.1 - - [28/Oct/2021 00:07:27] \"\u001b[37mPOST / HTTP/1.1\u001b[0m\" 200 -\n",
      "127.0.0.1 - - [28/Oct/2021 00:07:28] \"\u001b[37mGET / HTTP/1.1\u001b[0m\" 200 -\n",
      "127.0.0.1 - - [28/Oct/2021 00:07:35] \"\u001b[37mPOST / HTTP/1.1\u001b[0m\" 200 -\n"
     ]
    }
   ],
   "source": [
    "from flask import Flask\n",
    "from flask import request\n",
    "app = Flask(__name__)\n",
    "\n",
    "@app.route('/', methods=['GET','POST'])\n",
    "def submit():  #submit:提交\n",
    "    if request.method == 'POST':\n",
    "        username = request.values['username']\n",
    "        password = request.values['password']\n",
    "        if username == 'oscar' and password == '1234':\n",
    "            return '歡迎光臨本網站!'\n",
    "        else:\n",
    "            return '帳號或密碼錯誤!'\n",
    "    return \"\"\"\n",
    "            <form method='post' action=''>\n",
    "                <p> 帳號: <input type='text' name='username' /></p>\n",
    "                <p> 密碼: <input type='text' name='password' /></p>\n",
    "                <P><button type='submit'>確定</button></p>\n",
    "            </form>\n",
    "    \"\"\"\n",
    "\n",
    "if __name__ == \"__main__\":\n",
    "    app.run()"
   ]
  },
  {
   "cell_type": "markdown",
   "id": "2ca1633a",
   "metadata": {},
   "source": [
    "# 使用模板 render_template\n",
    "\n",
    "## 靜態網頁檔\n",
    "* from flask import render_template\n",
    "* render_template('網頁檔案名稱')\n",
    "    * 注意: 此網頁檔案需要放在與Flask程式路徑中的templates資料夾中!!\n",
    "\n",
    "hello.html:\n",
    "```\n",
    "<!DOCTYPE html>\n",
    "<html>\n",
    "    <head>\n",
    "        <meta charset=\"utf-8\">\n",
    "        <title>第一個模板</title>\n",
    "    </head>\n",
    "    <body>\n",
    "        <h1>Flask 網站</h1>\n",
    "        <h2>歡迎光臨!</h2>\n",
    "        <h4>2021年10月28日</h4>\n",
    "    </body>\n",
    "</html>\n",
    "```"
   ]
  },
  {
   "cell_type": "code",
   "execution_count": 25,
   "id": "6d8f303b",
   "metadata": {},
   "outputs": [
    {
     "name": "stdout",
     "output_type": "stream",
     "text": [
      " * Serving Flask app \"__main__\" (lazy loading)\n",
      " * Environment: production\n",
      "\u001b[31m   WARNING: This is a development server. Do not use it in a production deployment.\u001b[0m\n",
      "\u001b[2m   Use a production WSGI server instead.\u001b[0m\n",
      " * Debug mode: off\n"
     ]
    },
    {
     "name": "stderr",
     "output_type": "stream",
     "text": [
      " * Running on http://127.0.0.1:5000/ (Press CTRL+C to quit)\n",
      "127.0.0.1 - - [28/Oct/2021 00:22:16] \"\u001b[33mGET / HTTP/1.1\u001b[0m\" 404 -\n",
      "127.0.0.1 - - [28/Oct/2021 00:22:21] \"\u001b[37mGET /hello HTTP/1.1\u001b[0m\" 200 -\n"
     ]
    }
   ],
   "source": [
    "from flask import Flask\n",
    "from flask import render_template\n",
    "app = Flask(__name__)\n",
    "@app.route('/hello')\n",
    "def index():\n",
    "    return render_template('hello.html')\n",
    "\n",
    "if __name__ == '__main__':\n",
    "    app.run()\n",
    "#http://127.0.0.1:5000/hello"
   ]
  },
  {
   "cell_type": "markdown",
   "id": "e9817361",
   "metadata": {},
   "source": [
    "## 傳送參數及變數給網頁檔\n",
    "\n",
    "* 「**locals()」是指傳送所有參數及區域變數。\n",
    "* {{'變數名稱'}} 在網頁檔中接收變數或參數。\n",
    "\n",
    "hello2.html:\n",
    "```\n",
    "<!DOCTYPE html>\n",
    "<html>\n",
    "    <head>\n",
    "        <meta charset=\"utf-8\">\n",
    "        <title>第一個模板</title>\n",
    "    </head>\n",
    "    <body>\n",
    "        <h1>Flask 網站</h1>\n",
    "        <h2>{{name}}，歡迎光臨!</h2>\n",
    "        <h4>現在時刻:{{now}}</h4>\n",
    "    </body>\n",
    "</html>\n",
    "```"
   ]
  },
  {
   "cell_type": "code",
   "execution_count": 26,
   "id": "9a18be65",
   "metadata": {},
   "outputs": [
    {
     "name": "stdout",
     "output_type": "stream",
     "text": [
      " * Serving Flask app \"__main__\" (lazy loading)\n",
      " * Environment: production\n",
      "\u001b[31m   WARNING: This is a development server. Do not use it in a production deployment.\u001b[0m\n",
      "\u001b[2m   Use a production WSGI server instead.\u001b[0m\n",
      " * Debug mode: off\n"
     ]
    },
    {
     "name": "stderr",
     "output_type": "stream",
     "text": [
      " * Running on http://127.0.0.1:5000/ (Press CTRL+C to quit)\n",
      "127.0.0.1 - - [28/Oct/2021 00:33:48] \"\u001b[33mGET / HTTP/1.1\u001b[0m\" 404 -\n",
      "127.0.0.1 - - [28/Oct/2021 00:34:00] \"\u001b[33mGET /hell/oscar HTTP/1.1\u001b[0m\" 404 -\n",
      "127.0.0.1 - - [28/Oct/2021 00:34:09] \"\u001b[37mGET /hello/oscar HTTP/1.1\u001b[0m\" 200 -\n",
      "127.0.0.1 - - [28/Oct/2021 00:34:37] \"\u001b[33mGET / HTTP/1.1\u001b[0m\" 404 -\n",
      "127.0.0.1 - - [28/Oct/2021 00:34:51] \"\u001b[37mGET /hello/小哲 HTTP/1.1\u001b[0m\" 200 -\n"
     ]
    }
   ],
   "source": [
    "from flask import Flask\n",
    "from flask import render_template\n",
    "from datetime import datetime\n",
    "\n",
    "app = Flask(__name__)\n",
    "@app.route('/hello/<string:name>')\n",
    "def hello(name):\n",
    "    now = datetime.now()\n",
    "    return render_template('hello2.html', **locals())\n",
    "\n",
    "if __name__ == '__main__':\n",
    "    app.run()\n",
    "#http://127.0.0.1:5000/hello/oscar"
   ]
  },
  {
   "cell_type": "markdown",
   "id": "ddf29197",
   "metadata": {},
   "source": [
    "###  .html檔使用靜態檔案\n",
    "* 靜態檔案:圖片、.css檔等等\n",
    "* 將靜態檔案放在 static資料夾中\n",
    "* {{ url_for('static', filename='靜態檔案名稱') }}\n",
    "\n",
    "hell3.html\n",
    "```\n",
    "<!DOCTYPE html>\n",
    "<html>\n",
    "    <head>\n",
    "        <meta charset=\"utf-8\">\n",
    "        <title>第一個模板</title>\n",
    "        <link rel=\"stylesheet\" href=\"{{ url_for('static', filename='style.css') }}\">\n",
    "    </head>\n",
    "    <body>\n",
    "        <h1>Flask 網站</h1>\n",
    "        <img src=\"{{ url_for('static', filename='5566.jpg') }}\" width=\"32\" height=\"32\">\n",
    "        <h2>{{name}}，歡迎光臨!</h2>\n",
    "        <h4>現在時刻:{{now}}</h4>\n",
    "    </body>\n",
    "</html>\n",
    "```"
   ]
  },
  {
   "cell_type": "code",
   "execution_count": null,
   "id": "e9d90d1c",
   "metadata": {},
   "outputs": [
    {
     "name": "stdout",
     "output_type": "stream",
     "text": [
      " * Serving Flask app \"__main__\" (lazy loading)\n",
      " * Environment: production\n",
      "\u001b[31m   WARNING: This is a development server. Do not use it in a production deployment.\u001b[0m\n",
      "\u001b[2m   Use a production WSGI server instead.\u001b[0m\n",
      " * Debug mode: off\n"
     ]
    },
    {
     "name": "stderr",
     "output_type": "stream",
     "text": [
      " * Running on http://127.0.0.1:5000/ (Press CTRL+C to quit)\n",
      "127.0.0.1 - - [28/Oct/2021 01:05:52] \"\u001b[33mGET / HTTP/1.1\u001b[0m\" 404 -\n",
      "127.0.0.1 - - [28/Oct/2021 01:06:02] \"\u001b[33mGET /hello HTTP/1.1\u001b[0m\" 404 -\n",
      "127.0.0.1 - - [28/Oct/2021 01:06:07] \"\u001b[37mGET /hello/1 HTTP/1.1\u001b[0m\" 200 -\n"
     ]
    }
   ],
   "source": [
    "from flask import Flask\n",
    "from flask import render_template\n",
    "from datetime import datetime\n",
    "\n",
    "app = Flask(__name__)\n",
    "@app.route('/hello/<string:name>')\n",
    "def hello(name):\n",
    "    now = datetime.now()\n",
    "    return render_template('hello3.html', **locals())\n",
    "\n",
    "if __name__ == '__main__':\n",
    "    app.run( port=5000, debug=False)\n",
    "#http://127.0.0.1:5000/hello/oscar"
   ]
  },
  {
   "cell_type": "code",
   "execution_count": null,
   "id": "1642af5f",
   "metadata": {},
   "outputs": [],
   "source": []
  }
 ],
 "metadata": {
  "kernelspec": {
   "display_name": "Python 3",
   "language": "python",
   "name": "python3"
  },
  "language_info": {
   "codemirror_mode": {
    "name": "ipython",
    "version": 3
   },
   "file_extension": ".py",
   "mimetype": "text/x-python",
   "name": "python",
   "nbconvert_exporter": "python",
   "pygments_lexer": "ipython3",
   "version": "3.8.8"
  },
  "toc": {
   "base_numbering": 1,
   "nav_menu": {},
   "number_sections": true,
   "sideBar": true,
   "skip_h1_title": false,
   "title_cell": "Table of Contents",
   "title_sidebar": "Contents",
   "toc_cell": false,
   "toc_position": {},
   "toc_section_display": true,
   "toc_window_display": false
  }
 },
 "nbformat": 4,
 "nbformat_minor": 5
}
