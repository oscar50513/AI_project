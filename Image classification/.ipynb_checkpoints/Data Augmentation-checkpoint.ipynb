{
 "cells": [
  {
   "cell_type": "code",
   "execution_count": 33,
   "id": "19339192",
   "metadata": {},
   "outputs": [],
   "source": [
    "from keras.preprocessing.image import ImageDataGenerator\n",
    "datagen = ImageDataGenerator(\n",
    "    zca_whitening=False,\n",
    "    rotation_range=180,\n",
    "    #shear_range=0.2,\n",
    "    #zoom_range=0.2,\n",
    "    horizontal_flip=True,\n",
    "    fill_mode='constant',\n",
    "    cval=255)"
   ]
  },
  {
   "cell_type": "code",
   "execution_count": 34,
   "id": "3ee6b856",
   "metadata": {},
   "outputs": [],
   "source": [
    "import cv2\n",
    "from matplotlib import pyplot as plt\n",
    "img = cv2.imread(r\"C:\\Users\\Landis\\Desktop\\yolov7-main\\coffee bean\\insect damaged bean\\w_55.jpg\")\n",
    "img = cv2.cvtColor(img, cv2.COLOR_BGR2RGB)\n",
    "#格式必須為：(sample數, channels, height, width)\n",
    "img = img.reshape((1,) + img.shape)\n",
    "i = 0\n",
    "for batch in datagen.flow(img, batch_size=10,\n",
    "                          save_to_dir='preview', save_prefix='good_bean', save_format='jpeg'):\n",
    "#     plt.subplot(5,4,1 + i)\n",
    "#     plt.axis(\"off\")\n",
    "#     augImage = batch[0]\n",
    "#     augImage = augImage.astype('float32')\n",
    "#     augImage /= 255\n",
    "#     plt.imshow(augImage)\n",
    "    i += 1\n",
    "    if i > 50:\n",
    "        break\n"
   ]
  },
  {
   "cell_type": "code",
   "execution_count": 45,
   "id": "9b302406",
   "metadata": {},
   "outputs": [],
   "source": [
    "import os\n",
    "path = r\"C:\\Users\\Landis\\Desktop\\yolov7-main\\coffee bean\\insect damaged bean\"\n",
    "datalist = os.listdir(path)\n",
    "for name in datalist:\n",
    "    img = cv2.imread(os.path.join(path,name))\n",
    "    img = cv2.cvtColor(img, cv2.COLOR_BGR2RGB)\n",
    "    img = img.reshape((1,) + img.shape)\n",
    "    i = 0\n",
    "    for batch in datagen.flow(img, batch_size=10,save_to_dir='insect damaged bean', save_prefix='insect_bean'+name[:-4], save_format='jpeg'):\n",
    "        i += 1\n",
    "        if i > 20:\n",
    "            break"
   ]
  },
  {
   "cell_type": "code",
   "execution_count": 46,
   "id": "90c200c4",
   "metadata": {},
   "outputs": [],
   "source": [
    "import os\n",
    "path = r\"C:\\Users\\Landis\\Desktop\\yolov7-main\\coffee bean\\good_cut\"\n",
    "datalist = os.listdir(path)\n",
    "for name in datalist:\n",
    "    img = cv2.imread(os.path.join(path,name))\n",
    "    img = cv2.cvtColor(img, cv2.COLOR_BGR2RGB)\n",
    "    img = img.reshape((1,) + img.shape)\n",
    "    i = 0\n",
    "    for batch in datagen.flow(img, batch_size=10,save_to_dir='good_cut', save_prefix='good_bean'+name[:-4], save_format='jpeg'):\n",
    "        i += 1\n",
    "        if i > 20:\n",
    "            break"
   ]
  },
  {
   "cell_type": "code",
   "execution_count": 47,
   "id": "3032e93c",
   "metadata": {},
   "outputs": [],
   "source": [
    "import os\n",
    "path = r\"C:\\Users\\Landis\\Desktop\\yolov7-main\\coffee bean\\fungus damaged bean\"\n",
    "datalist = os.listdir(path)\n",
    "for name in datalist:\n",
    "    img = cv2.imread(os.path.join(path,name))\n",
    "    img = cv2.cvtColor(img, cv2.COLOR_BGR2RGB)\n",
    "    img = img.reshape((1,) + img.shape)\n",
    "    i = 0\n",
    "    for batch in datagen.flow(img, batch_size=10,save_to_dir='fungus damaged bean', save_prefix='fungus_bean'+name[:-4], save_format='jpeg'):\n",
    "        i += 1\n",
    "        if i > 20:\n",
    "            break"
   ]
  },
  {
   "cell_type": "code",
   "execution_count": null,
   "id": "395c362a",
   "metadata": {},
   "outputs": [],
   "source": [
    "import os\n",
    "path = r\"C:\\Users\\Landis\\Desktop\\yolov7-main\\coffee bean\\broken bean\"\n",
    "datalist = os.listdir(path)\n",
    "for name in datalist:\n",
    "    img = cv2.imread(os.path.join(path,name))\n",
    "    img = cv2.cvtColor(img, cv2.COLOR_BGR2RGB)\n",
    "    img = img.reshape((1,) + img.shape)\n",
    "    i = 0\n",
    "    for batch in datagen.flow(img, batch_size=10,save_to_dir='broken bean', save_prefix='broken_bean'+name[:-4], save_format='jpeg'):\n",
    "        i += 1\n",
    "        if i > 10:\n",
    "            break"
   ]
  },
  {
   "cell_type": "code",
   "execution_count": null,
   "id": "41bc59ac",
   "metadata": {},
   "outputs": [],
   "source": []
  }
 ],
 "metadata": {
  "kernelspec": {
   "display_name": "Python 3 (ipykernel)",
   "language": "python",
   "name": "python3"
  },
  "language_info": {
   "codemirror_mode": {
    "name": "ipython",
    "version": 3
   },
   "file_extension": ".py",
   "mimetype": "text/x-python",
   "name": "python",
   "nbconvert_exporter": "python",
   "pygments_lexer": "ipython3",
   "version": "3.9.16"
  }
 },
 "nbformat": 4,
 "nbformat_minor": 5
}
