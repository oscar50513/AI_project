{
 "cells": [
  {
   "cell_type": "code",
   "execution_count": 1,
   "id": "04732106",
   "metadata": {},
   "outputs": [
    {
     "name": "stdout",
     "output_type": "stream",
     "text": [
      "Collecting flask_sqlalchemy\n",
      "  Downloading Flask_SQLAlchemy-2.5.1-py2.py3-none-any.whl (17 kB)\n",
      "Requirement already satisfied: SQLAlchemy>=0.8.0 in c:\\users\\landis\\anaconda3\\lib\\site-packages (from flask_sqlalchemy) (1.4.7)\n",
      "Requirement already satisfied: Flask>=0.10 in c:\\users\\landis\\anaconda3\\lib\\site-packages (from flask_sqlalchemy) (1.1.2)\n",
      "Requirement already satisfied: click>=5.1 in c:\\users\\landis\\anaconda3\\lib\\site-packages (from Flask>=0.10->flask_sqlalchemy) (7.1.2)\n",
      "Requirement already satisfied: itsdangerous>=0.24 in c:\\users\\landis\\anaconda3\\lib\\site-packages (from Flask>=0.10->flask_sqlalchemy) (1.1.0)\n",
      "Requirement already satisfied: Jinja2>=2.10.1 in c:\\users\\landis\\anaconda3\\lib\\site-packages (from Flask>=0.10->flask_sqlalchemy) (2.11.3)\n",
      "Requirement already satisfied: Werkzeug>=0.15 in c:\\users\\landis\\anaconda3\\lib\\site-packages (from Flask>=0.10->flask_sqlalchemy) (1.0.1)\n",
      "Requirement already satisfied: MarkupSafe>=0.23 in c:\\users\\landis\\anaconda3\\lib\\site-packages (from Jinja2>=2.10.1->Flask>=0.10->flask_sqlalchemy) (1.1.1)\n",
      "Requirement already satisfied: greenlet!=0.4.17 in c:\\users\\landis\\anaconda3\\lib\\site-packages (from SQLAlchemy>=0.8.0->flask_sqlalchemy) (1.0.0)\n",
      "Installing collected packages: flask-sqlalchemy\n",
      "Successfully installed flask-sqlalchemy-2.5.1\n"
     ]
    }
   ],
   "source": [
    "!pip install -U flask_sqlalchemy"
   ]
  },
  {
   "cell_type": "code",
   "execution_count": 2,
   "id": "2e5e72a0",
   "metadata": {},
   "outputs": [
    {
     "name": "stdout",
     "output_type": "stream",
     "text": [
      "Collecting psycopg2\n",
      "  Downloading psycopg2-2.9.1-cp38-cp38-win_amd64.whl (1.1 MB)\n",
      "Installing collected packages: psycopg2\n",
      "Successfully installed psycopg2-2.9.1\n"
     ]
    }
   ],
   "source": [
    "!pip install -U psycopg2"
   ]
  }
 ],
 "metadata": {
  "kernelspec": {
   "display_name": "Python 3",
   "language": "python",
   "name": "python3"
  },
  "language_info": {
   "codemirror_mode": {
    "name": "ipython",
    "version": 3
   },
   "file_extension": ".py",
   "mimetype": "text/x-python",
   "name": "python",
   "nbconvert_exporter": "python",
   "pygments_lexer": "ipython3",
   "version": "3.8.8"
  }
 },
 "nbformat": 4,
 "nbformat_minor": 5
}
